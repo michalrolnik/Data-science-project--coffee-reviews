{
 "cells": [
  {
   "cell_type": "code",
   "execution_count": null,
   "id": "260e7827",
   "metadata": {},
   "outputs": [],
   "source": [
    "dfclean=dfimport time\n",
    "import os  \n",
    "from bs4 import BeautifulSoup as bs\n",
    "import pandas as pd\n",
    "import scipy as sc\n",
    "import numpy as np\n",
    "import requests\n",
    "from lxml import html\n",
    "import csv\n",
    "import matplotlib.pyplot as pltclean8.copy()"
   ]
  },
  {
   "cell_type": "code",
   "execution_count": null,
   "id": "8d9dfe9a",
   "metadata": {},
   "outputs": [],
   "source": [
    "df=pd.read_csv('coffee.csv')"
   ]
  },
  {
   "cell_type": "code",
   "execution_count": null,
   "id": "ead1b32b",
   "metadata": {},
   "outputs": [],
   "source": [
    "dfclean=dfclean10.copy()"
   ]
  },
  {
   "cell_type": "code",
   "execution_count": null,
   "id": "6be76f89",
   "metadata": {},
   "outputs": [],
   "source": [
    "import numpy as np\n",
    "import pandas as pd\n",
    "from sklearn import linear_model\n",
    "from sklearn.linear_model import LogisticRegression\n",
    "\n",
    "\n",
    "#and visualization setup\n",
    "import matplotlib.pyplot as plt\n",
    "%matplotlib inline  \n",
    "plt.rcParams['figure.figsize'] = (10, 6)\n",
    "from sklearn.model_selection import train_test_split\n",
    "from mpl_toolkits.mplot3d import Axes3D\n",
    "from matplotlib import cm"
   ]
  },
  {
   "cell_type": "code",
   "execution_count": null,
   "id": "901e2155",
   "metadata": {},
   "outputs": [],
   "source": [
    "dfclean.info()"
   ]
  },
  {
   "cell_type": "code",
   "execution_count": null,
   "id": "6dbfdfc3",
   "metadata": {},
   "outputs": [],
   "source": [
    "dfclean.columns[(dfclean.columns != 'Rating') & (dfclean.columns != 'Company Name') & (dfclean.columns != 'Coffee Name') & (dfclean.columns != 'Origin country')]"
   ]
  },
  {
   "cell_type": "code",
   "execution_count": null,
   "id": "4c47b681",
   "metadata": {},
   "outputs": [],
   "source": [
    "#creating matrix X and vector Y\n",
    "TRAINING_FEATURES = dfclean.columns[(dfclean.columns != 'Rating') & (dfclean.columns != 'Company Name') & (dfclean.columns != 'Coffee Name') & (dfclean.columns != 'Origin country')]\n",
    "TARGET_FEATURE    = 'Rating'\n",
    "\n",
    "X = dfclean[TRAINING_FEATURES]\n",
    "y = dfclean[TARGET_FEATURE]"
   ]
  },
  {
   "cell_type": "code",
   "execution_count": null,
   "id": "a49f03b8",
   "metadata": {},
   "outputs": [],
   "source": [
    "X.head()"
   ]
  },
  {
   "cell_type": "code",
   "execution_count": null,
   "id": "30076278",
   "metadata": {},
   "outputs": [],
   "source": [
    "y.head()"
   ]
  },
  {
   "cell_type": "code",
   "execution_count": null,
   "id": "f5334f6b",
   "metadata": {},
   "outputs": [],
   "source": [
    "#spliting the data to train and test\n",
    "X_train, X_test, y_train, y_test = train_test_split(X, y, test_size=0.2)\n",
    "\n",
    "print(\"Initial amount of samples: #{}\".format(X.shape[0]))\n",
    "print(\"Number of training samples: #{}\".format(X_train.shape[0]))\n",
    "print(\"Number of test samples: #{}\".format(X_test.shape[0]))\n",
    "\n",
    "print(\"\\nTarget distribution in original dataset:\\n{}\".format(y.value_counts()))\n",
    "print(\"\\nTarget distribution in the training set:\\n{}\\n\".format(y_train.value_counts()))\n",
    "print(\"Target distribution in the test set:\\n{}\".format(y_test.value_counts()))"
   ]
  },
  {
   "cell_type": "code",
   "execution_count": null,
   "id": "8fea910d",
   "metadata": {},
   "outputs": [],
   "source": [
    "#ננרמל את הערכים למרחקים מהערך הממוצע כך שערכים ששוים לממוצע יהיו 0 וסטיית תקן 1 \n",
    "from sklearn.preprocessing import StandardScaler, MinMaxScaler\n",
    "scaler = StandardScaler()\n",
    "X_train_scaled = scaler.fit_transform(X_train)"
   ]
  },
  {
   "cell_type": "code",
   "execution_count": null,
   "id": "128bb6d7",
   "metadata": {},
   "outputs": [],
   "source": [
    "#לקבוצת האימון \n",
    "print(\"Mean: \", X_train_scaled.mean(axis=0))\n",
    "print(\"Standard Deviation: \", X_train_scaled.std(axis=0))"
   ]
  },
  {
   "cell_type": "code",
   "execution_count": null,
   "id": "986f9606",
   "metadata": {},
   "outputs": [],
   "source": [
    "#קבוצת בדיקה \n",
    "X_test_scaled = scaler.transform(X_test)\n",
    "print(\"Mean: \", X_test_scaled.mean(axis=0))\n",
    "print(\"Standard Deviation: \", X_test_scaled.std(axis=0))"
   ]
  },
  {
   "cell_type": "code",
   "execution_count": null,
   "id": "7ffaab25",
   "metadata": {},
   "outputs": [],
   "source": [
    "#ננרמל גם את הטווחים של התוצאוצ\n",
    "min_max_scaler = MinMaxScaler(feature_range=(0, 100))\n",
    "X_train_scaled_in_range = min_max_scaler.fit_transform(X_train)\n",
    "print(\"Min Value: \", X_train_scaled_in_range.min(axis=0))\n",
    "print(\"Max Value: \", X_train_scaled_in_range.max(axis=0))\n",
    "X_test_scaled_in_range = min_max_scaler.transform(X_test)\n",
    "X_test_scaled_in_range"
   ]
  },
  {
   "cell_type": "code",
   "execution_count": null,
   "id": "8b96bd30",
   "metadata": {},
   "outputs": [],
   "source": [
    "#יצירת מודל רגרסיה ליניארית ובדיקתו במבחן R2\n",
    "lr=linear_model.LinearRegression()\n",
    "lr.fit(X=X_train, y=y_train)\n",
    "print(\"Slope:\",lr.coef_)\n",
    "print(\"Intercept:\",lr.intercept_)\n",
    "print(\"R2:\",lr.score(X_train,y_train))"
   ]
  },
  {
   "cell_type": "code",
   "execution_count": null,
   "id": "29611adf",
   "metadata": {},
   "outputs": [],
   "source": [
    "y_pred=lr.predict(X_test)\n",
    "dfclean['Rating']"
   ]
  },
  {
   "cell_type": "code",
   "execution_count": null,
   "id": "f0aa86d0",
   "metadata": {},
   "outputs": [],
   "source": [
    "dfclean=pd.DataFrame({\"Actual\":y_test,\"Predicted\":y_pred})\n",
    "dfclean"
   ]
  },
  {
   "cell_type": "code",
   "execution_count": null,
   "id": "b2793376",
   "metadata": {},
   "outputs": [],
   "source": [
    "lr = linear_model.LinearRegression() # create a linear regression object\n",
    "\n",
    "lr.fit(X=X_train, y=y_train);\n",
    "\n",
    "y_pred_linearmodel=lr.predict(X_test)\n",
    "print('linear regression train accuracy %s'% lr.score(X_train,y_train))\n",
    "print('linear regression test accuracy %s'% lr.score(X_test,y_test))\n",
    "\n"
   ]
  },
  {
   "cell_type": "code",
   "execution_count": null,
   "id": "37cf0f55",
   "metadata": {},
   "outputs": [],
   "source": [
    "print(\"Slope:\",lr.coef_)\n",
    "print(\"Intercept:\",lr.intercept_)\n",
    "X_train.columns[-2]"
   ]
  },
  {
   "cell_type": "code",
   "execution_count": null,
   "id": "65d1d7e4",
   "metadata": {},
   "outputs": [],
   "source": [
    "X_train"
   ]
  },
  {
   "cell_type": "code",
   "execution_count": null,
   "id": "bad45111",
   "metadata": {},
   "outputs": [],
   "source": [
    "X.columns[lr.coef_.argmax()]"
   ]
  },
  {
   "cell_type": "code",
   "execution_count": null,
   "id": "dcd33dc5",
   "metadata": {},
   "outputs": [],
   "source": [
    "dfclean8['Flavor'].unique()"
   ]
  },
  {
   "cell_type": "code",
   "execution_count": null,
   "id": "11c3fdbf",
   "metadata": {},
   "outputs": [],
   "source": [
    "import matplotlib.pyplot as plt\n",
    "\n",
    "# create a scatter plot with the actual and predicted values\n",
    "plt.scatter(range(len(y_test)), y_test, color='red', label='Actual Rating')\n",
    "plt.scatter(range(len(y_pred)), y_pred, color='blue', label='Predicted Rating')\n",
    "plt.xlabel('Index')\n",
    "plt.ylabel('Rating')\n",
    "plt.title('Linear Regression Model')\n",
    "plt.legend()\n",
    "plt.show()\n",
    "\n",
    "\n"
   ]
  },
  {
   "cell_type": "code",
   "execution_count": null,
   "id": "2de8c965",
   "metadata": {},
   "outputs": [],
   "source": [
    "#ננסה עוד מודל ,כיוון שהתוצאות יצאו גבוהות ונרצה לודא אמינות \n",
    "from sklearn.ensemble import RandomForestRegressor\n",
    "X_train, X_test, y_train, y_test = train_test_split(X, y, test_size=0.2, random_state=45)\n",
    "model = RandomForestRegressor(n_estimators=100, random_state=45).fit(X, y)\n",
    "print(\"Accuracy:\", model.score(X_test, y_test))"
   ]
  },
  {
   "cell_type": "code",
   "execution_count": null,
   "id": "aadc647c",
   "metadata": {},
   "outputs": [],
   "source": [
    "dfclean.corr()"
   ]
  },
  {
   "cell_type": "code",
   "execution_count": null,
   "id": "183f43aa",
   "metadata": {},
   "outputs": [],
   "source": [
    "#ניתן לראות שהקאורלציה של רייטינג מול משתנים אחרים היא יחסית גבוהה . בעיקר בפלייבור . אפשר לעשות גם מטריצת עמודות לדבר הזה "
   ]
  },
  {
   "cell_type": "code",
   "execution_count": null,
   "id": "115e05d0",
   "metadata": {},
   "outputs": [],
   "source": [
    "# create a scatter plot with the actual and predicted values\n",
    "plt.scatter(range(len(y_test)), y_test, color='red', label='Actual Rating')\n",
    "plt.scatter(range(len(y_pred)), y_pred, color='blue', label='Predicted Rating')\n",
    "plt.xlabel('Index')\n",
    "plt.ylabel('Rating')\n",
    "plt.title('Linear Regression Model')\n",
    "plt.legend()\n",
    "plt.show()\n"
   ]
  }
 ],
 "metadata": {
  "kernelspec": {
   "display_name": "Python 3 (ipykernel)",
   "language": "python",
   "name": "python3"
  },
  "language_info": {
   "codemirror_mode": {
    "name": "ipython",
    "version": 3
   },
   "file_extension": ".py",
   "mimetype": "text/x-python",
   "name": "python",
   "nbconvert_exporter": "python",
   "pygments_lexer": "ipython3",
   "version": "3.9.13"
  }
 },
 "nbformat": 4,
 "nbformat_minor": 5
}
