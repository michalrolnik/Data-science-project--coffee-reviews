{
 "cells": [
  {
   "cell_type": "code",
   "execution_count": null,
   "id": "2afe62a1",
   "metadata": {},
   "outputs": [],
   "source": [
    "import time\n",
    "import os  \n",
    "from bs4 import BeautifulSoup as bs\n",
    "import pandas as pd\n",
    "import scipy as sc\n",
    "import numpy as np\n",
    "import requests\n",
    "from lxml import html\n",
    "import csv\n",
    "import matplotlib.pyplot as plt"
   ]
  },
  {
   "cell_type": "code",
   "execution_count": null,
   "id": "5eb794ed",
   "metadata": {},
   "outputs": [],
   "source": [
    "#Crawling"
   ]
  },
  {
   "cell_type": "code",
   "execution_count": null,
   "id": "ee4dce70",
   "metadata": {},
   "outputs": [],
   "source": [
    "def load_soup_object(url):\n",
    "    headers = {'User-Agent': 'Mozilla/5.0 (Windows NT 6.1; WOW64) AppleWebKit/537.36 (KHTML, like Gecko) Chrome/56.0.2924.76 Safari/537.36', \"Upgrade-Insecure-Requests\": \"1\",\"DNT\": \"1\",\"Accept\": \"text/html,application/xhtml+xml,application/xml;q=0.9,*/*;q=0.8\",\"Accept-Language\": \"en-US,en;q=0.5\",\"Accept-Encoding\": \"gzip, deflate\"}\n",
    "    r = requests.get(url,headers=headers)\n",
    "    soup = bs(r.content, \"html.parser\")\n",
    "    return soup"
   ]
  },
  {
   "cell_type": "code",
   "execution_count": null,
   "id": "aaf5e9fb",
   "metadata": {},
   "outputs": [],
   "source": [
    "i = 0\n",
    "pages = []\n",
    "while(i<350): ## 350\n",
    "    i = i +1\n",
    "    i_str = str(i)\n",
    "    url = 'https://www.coffeereview.com/review/page/'+i_str+'/'\n",
    "    pages.append(url)\n"
   ]
  },
  {
   "cell_type": "code",
   "execution_count": null,
   "id": "6f3b274b",
   "metadata": {},
   "outputs": [],
   "source": [
    "pages"
   ]
  },
  {
   "cell_type": "code",
   "execution_count": null,
   "id": "edc023c9",
   "metadata": {},
   "outputs": [],
   "source": [
    "innerPagesLinks = []\n",
    "for page in pages:\n",
    "    soup = load_soup_object(page)\n",
    "    items = soup.find_all(\"div\",{\"class\": \"entry-content\"})\n",
    "    for item in items:\n",
    "        try:\n",
    "            link = item.find(\"p\",{\"class\": \"review-roaster\"}).find(\"a\")[\"href\"]\n",
    "        except:\n",
    "            link = None\n",
    "        if link:\n",
    "            innerPagesLinks.append(link)"
   ]
  },
  {
   "cell_type": "code",
   "execution_count": null,
   "id": "ffecce00",
   "metadata": {},
   "outputs": [],
   "source": [
    "innerPagesLinks"
   ]
  },
  {
   "cell_type": "code",
   "execution_count": null,
   "id": "a7ac7cb3",
   "metadata": {},
   "outputs": [],
   "source": [
    "data=[]\n",
    "\n",
    "for page in innerPagesLinks:\n",
    "    soup = load_soup_object(page)\n",
    "    dataList = soup.find(\"div\",{\"class\": \"review-template\"})\n",
    "    try:\n",
    "        coffee_name = dataList.find(\"p\",{\"class\":\"review-roaster\"}).text.strip()\n",
    "    except:\n",
    "        coffee_name = None\n",
    "    try:\n",
    "        company_name = dataList.find(\"h1\",{\"class\":\"review-title\"}).text.strip()\n",
    "    except:\n",
    "        company_name = None\n",
    "        \n",
    "    try:\n",
    "        rating = dataList.find(\"span\",{\"class\":\"review-template-rating\"}).text.strip()\n",
    "    except:\n",
    "        rating = None\n",
    "        \n",
    "    try:\n",
    "        location = dataList.find(\"table\",{\"class\":\"review-template-table\"})(\"tr\")[1](\"td\")[1].text.strip()\n",
    "    except:\n",
    "        location = None\n",
    "        \n",
    "    try:\n",
    "        r_location = dataList.find(\"table\",{\"class\":\"review-template-table\"})(\"tr\")[0](\"td\")[1].text.strip()\n",
    "    except:\n",
    "        r_location = None\n",
    "        \n",
    "    try:\n",
    "        roast = dataList.find(\"table\",{\"class\":\"review-template-table\"})(\"tr\")[2](\"td\")[1].text.strip()\n",
    "    except:\n",
    "        roast = None\n",
    "        \n",
    "    try:\n",
    "        agtron = dataList.find(\"table\",{\"class\":\"review-template-table\"})(\"tr\")[3](\"td\")[1].text.strip()\n",
    "    except:\n",
    "        agtron = None\n",
    "        \n",
    "    try:\n",
    "        price = dataList.find(\"table\",{\"class\":\"review-template-table\"})(\"tr\")[4](\"td\")[1].text.strip()\n",
    "    except:\n",
    "        price = None\n",
    "        \n",
    "    try:\n",
    "        date = dataList.findAll(\"table\",{\"class\":\"review-template-table\"})[1](\"tr\")[0](\"td\")[1].text.strip()\n",
    "    except:\n",
    "        date = None\n",
    "        \n",
    "    try:\n",
    "        aroma = dataList.findAll(\"table\",{\"class\":\"review-template-table\"})[1](\"tr\")[1](\"td\")[1].text.strip()\n",
    "    except:\n",
    "        aroma = None\n",
    "    \n",
    "    try:\n",
    "        acidity = dataList.findAll(\"table\",{\"class\":\"review-template-table\"})[1](\"tr\")[2](\"td\")[1].text.strip()\n",
    "    except:\n",
    "        acidity = None\n",
    "        \n",
    "    try:\n",
    "        body = dataList.findAll(\"table\",{\"class\":\"review-template-table\"})[1](\"tr\")[3](\"td\")[1].text.strip()\n",
    "    except:\n",
    "        body = None\n",
    "    \n",
    "    try:\n",
    "        flavor = dataList.findAll(\"table\",{\"class\":\"review-template-table\"})[1](\"tr\")[4](\"td\")[1].text.strip()\n",
    "    except:\n",
    "        flavor = None\n",
    "    \n",
    "    try:\n",
    "        aftertaste = dataList.findAll(\"table\",{\"class\":\"review-template-table\"})[1](\"tr\")[5](\"td\")[1].text.strip()\n",
    "    except:\n",
    "        aftertaste = None\n",
    "        \n",
    "    rowData={ \"Coffee Name\":coffee_name,\"Company Name\":company_name, \"Origin country\":location, \"Roaster Location:\":r_location, \"Roast Level\": roast, \"Agtron\":agtron, \"Price\":price, \"Rating\":rating, \"Review Date\":date, \"Aroma\":aroma, \"Acidity\":acidity, \"Body\":body, \"Flavor\":flavor, \"Aftertaste\":aftertaste}\n",
    "    data.append(rowData)\n",
    "\n",
    "time.sleep(10)\n",
    "df= pd.DataFrame(data)\n",
    "fileName='coffee.csv'\n",
    "df.to_csv(fileName, encoding='utf-8', index=False)"
   ]
  },
  {
   "cell_type": "code",
   "execution_count": null,
   "id": "c96508c9",
   "metadata": {},
   "outputs": [],
   "source": [
    "df=pd.read_csv('coffee.csv')"
   ]
  },
  {
   "cell_type": "code",
   "execution_count": null,
   "id": "1310555f",
   "metadata": {},
   "outputs": [],
   "source": [
    "df"
   ]
  },
  {
   "cell_type": "code",
   "execution_count": null,
   "id": "2e214f32",
   "metadata": {},
   "outputs": [],
   "source": [
    "#Cleaning"
   ]
  },
  {
   "cell_type": "code",
   "execution_count": null,
   "id": "485d3f1a",
   "metadata": {},
   "outputs": [],
   "source": [
    "df=pd.read_csv('coffee.csv')"
   ]
  },
  {
   "cell_type": "code",
   "execution_count": null,
   "id": "13110fcb",
   "metadata": {},
   "outputs": [],
   "source": [
    "dfclean1=df.drop_duplicates().copy() #נזרוק את כל השורות הכפולות"
   ]
  },
  {
   "cell_type": "code",
   "execution_count": null,
   "id": "1610b897",
   "metadata": {},
   "outputs": [],
   "source": [
    "dfclean1"
   ]
  },
  {
   "cell_type": "code",
   "execution_count": null,
   "id": "ebe75543",
   "metadata": {},
   "outputs": [],
   "source": [
    "print(dfclean1['Rating'].isnull().sum())\n",
    "print(dfclean1['Company Name'].isnull().sum())\n",
    "print(dfclean1.Agtron.isnull().sum())\n",
    "print(dfclean1.Aroma.isnull().sum())\n",
    "print(dfclean1.Price.isnull().sum())\n",
    "print(dfclean1.Acidity.isnull().sum())\n",
    "print(dfclean1.Body.isnull().sum())\n",
    "print(dfclean1.Flavor.isnull().sum())\n",
    "print(dfclean1.isnull()['Origin country'].sum())\n",
    "print(dfclean1.isnull()['Roast Level'].sum())\n",
    "print(dfclean1.isnull()['Roaster Location:'].sum())\n",
    "print(dfclean1.isnull()['Review Date'].sum())\n",
    "print(dfclean1.Aftertaste.isnull().sum())"
   ]
  },
  {
   "cell_type": "code",
   "execution_count": null,
   "id": "2bbb9139",
   "metadata": {},
   "outputs": [],
   "source": [
    "#נתחיל לנקות פר משתנה כשבכל פעם שנעבור משתנה ניצור עותק  \n",
    "dfclean1.Aftertaste.unique()"
   ]
  },
  {
   "cell_type": "code",
   "execution_count": null,
   "id": "8e3da43c",
   "metadata": {},
   "outputs": [],
   "source": [
    "#נמיר למשתנה נומרי \n",
    "dfclean1.Aftertaste=dfclean1.Aftertaste.astype(float)\n",
    "dfclean1"
   ]
  },
  {
   "cell_type": "code",
   "execution_count": null,
   "id": "2c630366",
   "metadata": {},
   "outputs": [],
   "source": [
    "avg=dfclean1.Aftertaste.mean()\n",
    "dfclean1.Aftertaste.fillna(avg, inplace=True) \n",
    "dfclean2=dfclean1.copy()\n",
    "\n",
    "#נמלא את כל התיבות הריקות בערך הממוצע"
   ]
  },
  {
   "cell_type": "code",
   "execution_count": null,
   "id": "2878b67c",
   "metadata": {},
   "outputs": [],
   "source": [
    "#משתנה שני- price\n",
    "import re\n",
    "\n",
    "def convert_to_dollars(value):\n",
    "    # Extract dollar amount\n",
    "    match = re.search('\\$([\\d\\.]+)', str(value))\n",
    "    if match:\n",
    "        dollars = match.group(1)\n",
    "    else:\n",
    "        dollars = None\n",
    "    return dollars\n",
    "\n",
    "dfclean2['Price'] = dfclean2['Price'].apply(convert_to_dollars).astype(float)"
   ]
  },
  {
   "cell_type": "code",
   "execution_count": null,
   "id": "4e61b775",
   "metadata": {},
   "outputs": [],
   "source": [
    "dfclean2= dfclean2[dfclean2['Price'].notna()] #נמחוק את השורות שלא הוזן מחיר"
   ]
  },
  {
   "cell_type": "code",
   "execution_count": null,
   "id": "27697de5",
   "metadata": {},
   "outputs": [],
   "source": [
    "print(dfclean2['Rating'].isnull().sum())\n",
    "print(dfclean2['Company Name'].isnull().sum())\n",
    "print(dfclean2.Agtron.isnull().sum())\n",
    "print(dfclean2.Aroma.isnull().sum())\n",
    "print(dfclean2.Price.isnull().sum())\n",
    "print(dfclean2.Acidity.isnull().sum())\n",
    "print(dfclean2.Body.isnull().sum())\n",
    "print(dfclean2.Flavor.isnull().sum())\n",
    "print(dfclean2.isnull()['Origin country'].sum())\n",
    "print(dfclean2.isnull()['Roast Level'].sum())\n",
    "print(dfclean2.isnull()['Roaster Location:'].sum())\n",
    "print(dfclean2.isnull()['Review Date'].sum())\n",
    "print(dfclean2.Aftertaste.isnull().sum())"
   ]
  },
  {
   "cell_type": "code",
   "execution_count": null,
   "id": "2c03aacf",
   "metadata": {},
   "outputs": [],
   "source": [
    "dfclean3=dfclean2.copy()"
   ]
  },
  {
   "cell_type": "code",
   "execution_count": null,
   "id": "292a537f",
   "metadata": {},
   "outputs": [],
   "source": [
    "dfclean3.Flavor.unique() #משתנה שלישי-flavor"
   ]
  },
  {
   "cell_type": "code",
   "execution_count": null,
   "id": "95bbb737",
   "metadata": {},
   "outputs": [],
   "source": [
    "dfclean3.Flavor=dfclean3.Flavor.astype(float)\n",
    "avg=dfclean3.Flavor.mean()\n",
    "dfclean3.Flavor.fillna(avg, inplace=True)\n",
    "dfclean3.info()\n",
    "dfclean4=dfclean3.copy()"
   ]
  },
  {
   "cell_type": "code",
   "execution_count": null,
   "id": "e51db6ad",
   "metadata": {},
   "outputs": [],
   "source": [
    "dfclean4.Body.unique() #משתנה רביעי -body"
   ]
  },
  {
   "cell_type": "code",
   "execution_count": null,
   "id": "aec5cf55",
   "metadata": {},
   "outputs": [],
   "source": [
    "dfclean4.Body=dfclean4.Body.astype(float)\n",
    "avg=dfclean4.Body.mean()\n",
    "dfclean4.Body.fillna(avg, inplace=True)\n",
    "dfclean4.info()\n",
    "dfclean5=dfclean4.copy()"
   ]
  },
  {
   "cell_type": "code",
   "execution_count": null,
   "id": "43e85044",
   "metadata": {},
   "outputs": [],
   "source": [
    "dfclean5.Acidity.unique() #משתנה חמישי- acidity"
   ]
  },
  {
   "cell_type": "code",
   "execution_count": null,
   "id": "0e1b80c9",
   "metadata": {},
   "outputs": [],
   "source": [
    "dfclean5.Acidity=dfclean5.Acidity.astype(float)\n",
    "avg=dfclean5.Acidity.mean()\n",
    "dfclean5.Acidity.fillna(avg, inplace=True)\n",
    "dfclean5.info()\n",
    "dfclean6=dfclean5.copy()"
   ]
  },
  {
   "cell_type": "code",
   "execution_count": null,
   "id": "6f89043b",
   "metadata": {},
   "outputs": [],
   "source": [
    "dfclean6.Aroma.unique() #משתנה שישי- aroma"
   ]
  },
  {
   "cell_type": "code",
   "execution_count": null,
   "id": "d4e3fb0e",
   "metadata": {},
   "outputs": [],
   "source": [
    "dfclean6.Aroma=dfclean6.Aroma.astype(float)\n",
    "avg=dfclean6.Aroma.mean()\n",
    "dfclean6.Aroma.fillna(avg, inplace=True)\n",
    "dfclean6.info()\n",
    "dfclean6\n",
    "dfclean7=dfclean6.copy()"
   ]
  },
  {
   "cell_type": "code",
   "execution_count": null,
   "id": "37e236ac",
   "metadata": {},
   "outputs": [],
   "source": [
    "print(dfclean6['Rating'].unique())\n",
    "print(dfclean6['Company Name'].unique())\n",
    "print(dfclean6.Agtron.isnull().unique())\n",
    "print(dfclean6.Aroma.unique())\n",
    "print(dfclean6.Price.unique())\n",
    "print(dfclean6.Acidity.unique())\n",
    "print(dfclean6.Body.unique())\n",
    "print(dfclean6.Flavor.unique())\n",
    "print(dfclean6['Origin country'].unique())\n",
    "print(dfclean6['Roast Level'].unique())\n",
    "print(dfclean6['Roaster Location:'].unique())\n",
    "print(dfclean6['Review Date'].unique())\n",
    "print(dfclean6.Aftertaste.unique())"
   ]
  },
  {
   "cell_type": "code",
   "execution_count": null,
   "id": "a5ed71e5",
   "metadata": {},
   "outputs": [],
   "source": [
    "#משתנה שביעי- roast level\n",
    "#מחרוזות של מלל יותר קשה להמיר למשתנה נומרי, מצריכות ליצור מילון וידנית לתת ערך מספרי לכל אחת מהאפשרויות\n",
    "dfclean7.Rating=dfclean7.Rating.astype(float)\n",
    "roast_level_dict = {'Light': 1, 'Medium-Light': 2, 'Medium': 3, 'Medium-Dark': 4, 'Dark': 5, 'NA': 6, 'Very Dark': 7}\n",
    "\n",
    "# Use the map function to apply the dictionary to the column values\n",
    "dfclean7['Roast Level'] = dfclean7['Roast Level'].map(roast_level_dict)\n",
    "\n",
    "# Verify the result\n",
    "print(dfclean7['Roast Level'].unique())\n",
    "dfclean8=dfclean7.copy()"
   ]
  },
  {
   "cell_type": "code",
   "execution_count": null,
   "id": "ac68eb89",
   "metadata": {},
   "outputs": [],
   "source": [
    "dfclean8.Agtron.unique()#משתה שמיני-Agtron"
   ]
  },
  {
   "cell_type": "code",
   "execution_count": null,
   "id": "02138645",
   "metadata": {},
   "outputs": [],
   "source": [
    "dfclean8 = dfclean8[dfclean8['Agtron'] != 'NA/']\n",
    "dfclean8 = dfclean8[dfclean8['Agtron'] != 'NA/NA']\n",
    "dfclean8 = dfclean8[dfclean8['Agtron'] != '/']\n",
    "dfclean8 = dfclean8[dfclean8['Agtron'] != '0/0']\n",
    "dfclean8=dfclean8.copy()"
   ]
  },
  {
   "cell_type": "code",
   "execution_count": null,
   "id": "d941d6a8",
   "metadata": {},
   "outputs": [],
   "source": [
    "dfclean8['Agtron']=dfclean8.Agtron.apply(lambda x: eval(x) if isinstance(x, str) and '0' not in x.split('/') else x)\n",
    "dfclean8['Agtron'] = dfclean8['Agtron'].replace('/', 0, regex=True)\n",
    "dfclean8['Agtron'].unique()"
   ]
  },
  {
   "cell_type": "code",
   "execution_count": null,
   "id": "8aca0af3",
   "metadata": {},
   "outputs": [],
   "source": [
    "dfclean8['Agtron'] = dfclean8['Agtron'].astype(float)"
   ]
  },
  {
   "cell_type": "code",
   "execution_count": null,
   "id": "015cc55c",
   "metadata": {},
   "outputs": [],
   "source": [
    "dfclean8.info()"
   ]
  },
  {
   "cell_type": "code",
   "execution_count": null,
   "id": "c837d539",
   "metadata": {},
   "outputs": [],
   "source": [
    "dfclean9=dfclean8.copy()"
   ]
  },
  {
   "cell_type": "code",
   "execution_count": null,
   "id": "8057d807",
   "metadata": {},
   "outputs": [],
   "source": [
    "dfclean9['Review Date'] = dfclean9['Review Date'].str[-4:].astype(int) #משתנה תשיעי -reviwe date"
   ]
  },
  {
   "cell_type": "code",
   "execution_count": null,
   "id": "f9b6b9ea",
   "metadata": {},
   "outputs": [],
   "source": [
    "dfclean10=dfclean9.copy()"
   ]
  },
  {
   "cell_type": "code",
   "execution_count": null,
   "id": "51f25684",
   "metadata": {},
   "outputs": [],
   "source": [
    "dfclean10['Roaster Location:'].value_counts() #משתנה עשירי-roaster location"
   ]
  },
  {
   "cell_type": "code",
   "execution_count": null,
   "id": "897b69c9",
   "metadata": {},
   "outputs": [],
   "source": [
    "dfclean10['Roaster Location:'].unique()"
   ]
  },
  {
   "cell_type": "code",
   "execution_count": null,
   "id": "a11a9a29",
   "metadata": {},
   "outputs": [],
   "source": [
    "dfclean10['Roaster Location:'] = dfclean10['Roaster Location:'].apply(lambda x: x.split(\", \")[-1]) #נפצל את הערים מהמדינות בהן נמצאות\n"
   ]
  },
  {
   "cell_type": "code",
   "execution_count": null,
   "id": "db823a45",
   "metadata": {},
   "outputs": [],
   "source": [
    "#ננקה את הכפילויות העקומות, (הוכחה שזה לא הג'יפיטי)\n",
    "dfclean10['Roaster Location:'] = dfclean10['Roaster Location:'].replace({\n",
    "    'Los Angeles': 'California',\n",
    "    'Wisconsin.': 'Wisconsin',\n",
    "    'Taiwan.': 'Taiwan',\n",
    "    'Montana.': 'Montana',\n",
    "    'New York.': 'New York',\n",
    "    'Calfornia': 'California',\n",
    "    'California.': 'California',\n",
    "    'Branford Connecticut': 'Connecticut',\n",
    "    'Vermont.': 'Vermont',\n",
    "    'Illinois.': 'Illinois',\n",
    "    'MIssissippi': 'Mississippi',\n",
    "    'MIssouri': 'Missouri',\n",
    "    'D.C.': 'DC',\n",
    "    'MInnesota': 'Minnesota',\n",
    "    \"Hawai'i\": 'Hawaii',\n",
    "    'Hawai’i': 'Hawaii',\n",
    "    'Peoria. Illinois': 'Illinois',\n",
    "    'Virginia.':'Virginia'\n",
    "})"
   ]
  },
  {
   "cell_type": "code",
   "execution_count": null,
   "id": "31d26153",
   "metadata": {},
   "outputs": [],
   "source": [
    "dfclean10['Roaster Location:'].unique()"
   ]
  },
  {
   "cell_type": "code",
   "execution_count": null,
   "id": "d779cb4a",
   "metadata": {},
   "outputs": [],
   "source": [
    " data_dict = dfclean10['Roaster Location:'].value_counts().to_dict()\n",
    "data_dict\n",
    " # merge the least common locations (under 1%) into a single category called \"Other\".\n",
    "threshold =50\n",
    "other_count = sum(count for count in data_dict.values() if count < threshold)\n",
    "data_dict = {k: v for k, v in data_dict.items() if v >= threshold}\n",
    "data_dict['Other'] = other_count\n",
    "\n",
    "# create a pie chart from the updated dictionary\n",
    "plt.figure(figsize=(8, 8))\n",
    "plt.pie(data_dict.values(), labels=data_dict.keys(),autopct='%1.1f%%')\n",
    "\n",
    "# show the pie chart\n",
    "plt.show()"
   ]
  },
  {
   "cell_type": "code",
   "execution_count": null,
   "id": "0bc6215e",
   "metadata": {},
   "outputs": [],
   "source": [
    "# create a dictionary with mappings\n",
    "location_dict = {'Virginia': 1, 'Vermont': 2, 'Colorado': 3, 'Wyoming': 4, 'Oregon': 5, 'Montana': 6, \n",
    "                 'Utah': 7, 'California': 8, 'Kansas': 9, ' California': 8, 'Arizona': 10, 'Hawaii': 11, \n",
    "                 'Taiwan': 12, 'Wisconsin': 13, 'Illinois': 14, 'Minnesota': 15, 'Ohio': 16, 'Georgia': 17, \n",
    "                 'Maine': 18, 'China': 19, 'North Carolina': 20, 'New York': 21, 'Connecticut': 22, 'Alaska': 23, \n",
    "                 'Guatemala': 24, 'New Jersey': 25, 'Florida': 26, 'Japan': 27, 'Nevada': 28, 'Canada': 29, \n",
    "                 'Texas': 30, 'Michigan': 31, 'Massachusetts': 32, 'Oklahoma': 33, 'Kenya': 34, 'New Mexico': 35, \n",
    "                 'Washington': 36, 'New Hampshire': 37, 'Pennsylvania': 38, 'Alabama': 39, 'DC': 40, \n",
    "                 'Colombia': 41, 'Tennessee': 42, 'Mexico': 43, 'Honduras': 44, 'Peru': 45, 'Missouri': 46, \n",
    "                 'Mississippi': 47, 'Iowa': 48, 'Maryland': 49, 'Washingto': 36, 'Laos': 50, 'Indonesia': 51, \n",
    "                 'Australia': 52, 'United Arab Emirates': 53, 'Louisiana': 54, 'Thailand': 55, 'Uganda': 56, \n",
    "                 'Idaho': 57, 'Californiaa': 8, 'South Korea': 58, 'Kentucky': 59, \n",
    "                 'Democratic Republic of the Congo': 60, 'Rwanda': 61, 'Puerto Rico': 62, 'Tempe Arizona': 10, \n",
    "                 'Germany': 63, 'El Salvador': 64, 'Indiana': 65, 'Italy': 66, 'Switzerland': 67, 'Costa Rica': 68, \n",
    "                 'Sacr': 69, 'Kona': 70, 'Nebraska': 71, 'South Dakota': 72, 'Sweden': 73, 'Arkansas': 74, \n",
    "                 'British Colombia': 75, 'France': 76, 'Rhode Island': 77}\n",
    "\n",
    "# apply the mapping to the column using the map() method\n",
    "dfclean10['Roaster Location:'] = dfclean10['Roaster Location:'].map(location_dict)"
   ]
  },
  {
   "cell_type": "code",
   "execution_count": null,
   "id": "6e83d945",
   "metadata": {},
   "outputs": [],
   "source": [
    "dfclean10['Roaster Location:'].unique()"
   ]
  },
  {
   "cell_type": "code",
   "execution_count": null,
   "id": "8cf46ab6",
   "metadata": {},
   "outputs": [],
   "source": [
    "data_dict = dfclean10['Roaster Location:'].value_counts().to_dict()\n",
    "data_dict\n",
    " # merge the least common locations (under 1%) into a single category called \"Other\", there are 24 in total.\n",
    "threshold =55\n",
    "other_count = sum(count for count in data_dict.values() if count < threshold)\n",
    "data_dict = {k: v for k, v in data_dict.items() if v >= threshold}\n",
    "data_dict['Other'] = other_count\n",
    "\n",
    "# create a pie chart from the updated dictionary\n",
    "plt.figure(figsize=(8, 8))\n",
    "plt.pie(data_dict.values(), labels=data_dict.keys(),autopct='%1.1f%%')\n",
    "\n",
    "# show the pie chart\n",
    "plt.show()"
   ]
  },
  {
   "cell_type": "code",
   "execution_count": null,
   "id": "c6812557",
   "metadata": {},
   "outputs": [],
   "source": [
    " dfclean10. info()"
   ]
  },
  {
   "cell_type": "code",
   "execution_count": null,
   "id": "c4dfab5f",
   "metadata": {},
   "outputs": [],
   "source": [
    "fileName='coffeeClean2'"
   ]
  },
  {
   "cell_type": "code",
   "execution_count": null,
   "id": "b5d6104a",
   "metadata": {},
   "outputs": [],
   "source": [
    "dfclean10.to_csv(fileName, encoding='utf-8', index=False)"
   ]
  },
  {
   "cell_type": "code",
   "execution_count": null,
   "id": "401df7d2",
   "metadata": {},
   "outputs": [],
   "source": []
  },
  {
   "cell_type": "code",
   "execution_count": null,
   "id": "da4e84d1",
   "metadata": {},
   "outputs": [],
   "source": [
    "#visualization-EDA"
   ]
  },
  {
   "cell_type": "code",
   "execution_count": null,
   "id": "ce92cc5a",
   "metadata": {},
   "outputs": [],
   "source": [
    "#EDA- part1\n",
    "import matplotlib as mpl\n",
    "from matplotlib import pyplot as plt\n",
    "import seaborn as sns\n",
    "%matplotlib inline\n",
    "\n",
    "#EDA- part2\n",
    "import matplotlib.image as mpimg\n",
    "from IPython.display import IFrame"
   ]
  },
  {
   "cell_type": "code",
   "execution_count": null,
   "id": "51687c53",
   "metadata": {},
   "outputs": [],
   "source": [
    "# Top ratings are: 93, 92, 94, 95, 90\n",
    "df[\"Rating\"].value_counts()"
   ]
  },
  {
   "cell_type": "code",
   "execution_count": null,
   "id": "d16cecf7",
   "metadata": {},
   "outputs": [],
   "source": [
    "# Presented in bar & pie graph\n",
    "df[\"Rating\"].value_counts().plot(kind='bar')"
   ]
  },
  {
   "cell_type": "code",
   "execution_count": null,
   "id": "042e5122",
   "metadata": {},
   "outputs": [],
   "source": [
    "data_dict = df['Rating'].value_counts().to_dict()\n",
    "data_dict\n",
    "\n",
    "# create a pie chart from the updated dictionary\n",
    "plt.figure(figsize=(8, 8))\n",
    "plt.pie(data_dict.values(), labels=data_dict.keys(),autopct='%1.1f%%')\n",
    "\n",
    "# show the pie chart\n",
    "plt.show()"
   ]
  },
  {
   "cell_type": "code",
   "execution_count": null,
   "id": "a1996d5a",
   "metadata": {},
   "outputs": [],
   "source": [
    "# Distribution of reviews by coffee harvest Origin country\n",
    "df['Origin country'].value_counts()"
   ]
  },
  {
   "cell_type": "code",
   "execution_count": null,
   "id": "e656db12",
   "metadata": {},
   "outputs": [],
   "source": [
    "# Distribution of reviews by dates \n",
    "# Most of the reviews are from Oct-Nov.22 \n",
    "df[\"Review Date\"].head(1000).value_counts().plot(kind='pie')"
   ]
  },
  {
   "cell_type": "code",
   "execution_count": null,
   "id": "44cd63af",
   "metadata": {},
   "outputs": [],
   "source": [
    "# Distribution of reviews by price\n",
    "df[['Rating', 'Price']].value_counts()"
   ]
  },
  {
   "cell_type": "code",
   "execution_count": null,
   "id": "fcb71683",
   "metadata": {},
   "outputs": [],
   "source": [
    "#Converting Rating to bool, adding a new column \"Rating Bool\" 1- rating > 90 else -0.\n",
    "\n",
    "dfeda1 = df.copy()\n",
    "dfeda1['Rating Bool'] = (dfeda1['Rating'] > 90).astype(int)\n",
    "dfeda1.tail(1000)"
   ]
  },
  {
   "cell_type": "code",
   "execution_count": null,
   "id": "430b218c",
   "metadata": {},
   "outputs": [],
   "source": [
    "bins=[0,50,100,200,300,400,500,1000]\n",
    "labels=[1,2,3,4,5,6,7]\n",
    "\n",
    "dfeda2 = dfeda1.copy()\n",
    "dfeda2['Price_Binned']=pd.cut(dfeda2['Price'],bins,labels)"
   ]
  },
  {
   "cell_type": "code",
   "execution_count": null,
   "id": "f81689ca",
   "metadata": {},
   "outputs": [],
   "source": [
    "dfeda2[['Rating Bool', 'Price_Binned']].head(1000).value_counts()"
   ]
  },
  {
   "cell_type": "code",
   "execution_count": null,
   "id": "36be13a8",
   "metadata": {},
   "outputs": [],
   "source": [
    "ct1 = pd.crosstab(dfeda2['Rating Bool'] , dfeda2['Price_Binned'])\n",
    "ct1.head()"
   ]
  },
  {
   "cell_type": "code",
   "execution_count": null,
   "id": "faf387ee",
   "metadata": {},
   "outputs": [],
   "source": [
    "ct2 = pd.crosstab(dfeda2['Rating Bool'] , dfeda2['Price_Binned'], normalize='index')\n",
    "ct2.head()"
   ]
  },
  {
   "cell_type": "code",
   "execution_count": null,
   "id": "5dc6cc05",
   "metadata": {},
   "outputs": [],
   "source": [
    "ct2.plot(kind='bar')\n",
    "plt.title('Distribution of reviews by price')\n",
    "plt.xlabel('Rating: (Rating > 90: 1, else: 0)')\n",
    "plt.ylabel('Price')"
   ]
  },
  {
   "cell_type": "code",
   "execution_count": null,
   "id": "9f118fab",
   "metadata": {},
   "outputs": [],
   "source": [
    "#Correlation between price and rating\n",
    "from scipy.stats import chi2_contingency\n",
    "chi2_contingency (ct2)"
   ]
  },
  {
   "cell_type": "code",
   "execution_count": null,
   "id": "db7f2729",
   "metadata": {},
   "outputs": [],
   "source": [
    "dfeda2[['Rating', 'Aftertaste']].head(1000).value_counts()"
   ]
  },
  {
   "cell_type": "code",
   "execution_count": null,
   "id": "8914f98a",
   "metadata": {},
   "outputs": [],
   "source": [
    "ct3 = pd.crosstab(dfeda2['Rating'] , dfeda2['Aftertaste'], normalize='index')\n",
    "ct3.head()"
   ]
  },
  {
   "cell_type": "code",
   "execution_count": null,
   "id": "4b5b8f73",
   "metadata": {},
   "outputs": [],
   "source": [
    "ct3.plot(kind='bar')\n",
    "plt.title('Distribution of reviews by aftertaste')\n",
    "plt.xlabel('Rating')\n",
    "plt.ylabel('Aftertaste')"
   ]
  },
  {
   "cell_type": "code",
   "execution_count": null,
   "id": "1e6770f0",
   "metadata": {},
   "outputs": [],
   "source": [
    "#Correlation between aftertaste and rating\n",
    "chi2_contingency (ct3)"
   ]
  },
  {
   "cell_type": "code",
   "execution_count": null,
   "id": "d724252a",
   "metadata": {},
   "outputs": [],
   "source": [
    "coffee1 = dfeda2.groupby(['Rating']).mean()[['Aroma', 'Price', 'Body', 'Acidity','Aftertaste']]\n",
    "coffee1.plot()"
   ]
  },
  {
   "cell_type": "code",
   "execution_count": null,
   "id": "71a8bc68",
   "metadata": {},
   "outputs": [],
   "source": [
    "sns.scatterplot(x='Price', y='Aroma',  s=15, hue='Rating Bool', data=dfeda2)"
   ]
  },
  {
   "cell_type": "code",
   "execution_count": null,
   "id": "94740eac",
   "metadata": {},
   "outputs": [],
   "source": [
    "sns.scatterplot(x='Price', y='Flavor',  s=20, hue='Rating', data=dfeda2)"
   ]
  },
  {
   "cell_type": "code",
   "execution_count": null,
   "id": "df764eb0",
   "metadata": {},
   "outputs": [],
   "source": [
    "plt.rcParams['figure.figsize'] = (10, 6)\n",
    "\n",
    "from mpl_toolkits.mplot3d import Axes3D\n",
    "from matplotlib import cm"
   ]
  },
  {
   "cell_type": "code",
   "execution_count": null,
   "id": "637d2f00",
   "metadata": {},
   "outputs": [],
   "source": [
    "dfeda2.describe()"
   ]
  },
  {
   "cell_type": "code",
   "execution_count": null,
   "id": "d9f7a257",
   "metadata": {},
   "outputs": [],
   "source": [
    "plt.scatter(x=dfeda2['Flavor'],y=dfeda2['Rating'],c='r',marker='s',label='Flavor')\n",
    "plt.scatter(x=dfeda2['Aroma'],y=dfeda2['Rating'],c='b',marker='o',label='Aroma')\n",
    "plt.scatter(x=dfeda2['Body'],y=dfeda2['Rating'],c='k',marker='*',label='Body')\n",
    "plt.scatter(x=dfeda2['Aftertaste'],y=dfeda2['Rating'],c='m',marker='p',label='Aftertaste')\n",
    "plt.scatter(x=dfeda2['Acidity'],y=dfeda2['Rating'],c='g',marker='+',label='Acidity')\n",
    "\n",
    "plt.legend(numpoints=1,loc=4)\n",
    "plt.title(\"Rating's correlation\")\n",
    "plt.xlabel('Rank')\n",
    "plt.ylabel('Rating')\n",
    "plt.show()"
   ]
  },
  {
   "cell_type": "code",
   "execution_count": null,
   "id": "b25a6c2a",
   "metadata": {},
   "outputs": [],
   "source": [
    "plt.scatter(x=dfeda2['Aroma'],y=dfeda2['Rating'],c='b',marker='o',label='Aroma')\n",
    "\n",
    "plt.legend(numpoints=1,loc=4)\n",
    "plt.title('Distribution of Rating by Aroma')\n",
    "plt.xlabel('Aroma')\n",
    "plt.ylabel('Rating')\n",
    "plt.show()"
   ]
  },
  {
   "cell_type": "code",
   "execution_count": null,
   "id": "f425f701",
   "metadata": {},
   "outputs": [],
   "source": [
    "sns.pairplot(dfeda2[['Rating', 'Price', 'Aroma', 'Aftertaste', 'Body', 'Flavor']])"
   ]
  },
  {
   "cell_type": "code",
   "execution_count": null,
   "id": "b5d696a2",
   "metadata": {},
   "outputs": [],
   "source": []
  },
  {
   "cell_type": "code",
   "execution_count": null,
   "id": "91a81dee",
   "metadata": {},
   "outputs": [],
   "source": [
    "#Machine learning"
   ]
  },
  {
   "cell_type": "code",
   "execution_count": null,
   "id": "b9f3560b",
   "metadata": {},
   "outputs": [],
   "source": [
    "dfclean=pd.read_csv('coffeeClean2')"
   ]
  },
  {
   "cell_type": "code",
   "execution_count": null,
   "id": "ade387b9",
   "metadata": {},
   "outputs": [],
   "source": [
    "import numpy as np\n",
    "import pandas as pd\n",
    "from sklearn import linear_model\n",
    "from sklearn.linear_model import LogisticRegression\n",
    "\n",
    "\n",
    "#and visualization setup\n",
    "import matplotlib.pyplot as plt\n",
    "%matplotlib inline  \n",
    "plt.rcParams['figure.figsize'] = (10, 6)\n",
    "from sklearn.model_selection import train_test_split\n",
    "from mpl_toolkits.mplot3d import Axes3D\n",
    "from matplotlib import cm"
   ]
  },
  {
   "cell_type": "code",
   "execution_count": null,
   "id": "a2437907",
   "metadata": {},
   "outputs": [],
   "source": [
    "dfclean.info()"
   ]
  },
  {
   "cell_type": "code",
   "execution_count": null,
   "id": "469db965",
   "metadata": {},
   "outputs": [],
   "source": [
    "dfclean.columns[(dfclean.columns != 'Rating') & (dfclean.columns != 'Company Name') & (dfclean.columns != 'Coffee Name') & (dfclean.columns != 'Origin country')]"
   ]
  },
  {
   "cell_type": "code",
   "execution_count": null,
   "id": "322dfa28",
   "metadata": {},
   "outputs": [],
   "source": [
    "#creating matrix X and vector Y\n",
    "#מנסה לנרמל לפני פיצול \n",
    "TRAINING_FEATURES = dfclean.columns[(dfclean.columns != 'Rating') & (dfclean.columns != 'Company Name') & (dfclean.columns != 'Coffee Name') & (dfclean.columns != 'Origin country')]\n",
    "TARGET_FEATURE    = 'Rating'\n",
    "\n",
    "X = dfclean[TRAINING_FEATURES]\n",
    "y = dfclean[TARGET_FEATURE]\n",
    "\n",
    "from sklearn.preprocessing import StandardScaler\n",
    "scaler = StandardScaler()\n",
    "X_scaled = scaler.fit_transform(X)\n",
    "\n",
    "#min_max_scaler = MinMaxScaler(feature_range=(0, 100))\n",
    "#X_train_scaled_in_range = min_max_scaler.fit_transform(X_train)\n",
    "#print(\"Min Value: \", X_train_scaled_in_range.min(axis=0))\n",
    "#print(\"Max Value: \", X_train_scaled_in_range.max(axis=0))\n",
    "#X_test_scaled_in_range = min_max_scaler.transform(X_test)\n",
    "#X_test_scaled_in_range\n",
    "\n",
    "from sklearn.model_selection import train_test_split\n",
    "X_train, X_test, y_train, y_test = train_test_split(X_scaled, y, test_size=0.2)"
   ]
  },
  {
   "cell_type": "code",
   "execution_count": null,
   "id": "6aae8675",
   "metadata": {},
   "outputs": [],
   "source": [
    "print(\"Initial amount of samples: #{}\".format(X.shape[0]))\n",
    "print(\"Number of training samples: #{}\".format(X_train.shape[0]))\n",
    "print(\"Number of test samples: #{}\".format(X_test.shape[0]))\n",
    "\n",
    "print(\"\\nTarget distribution in original dataset:\\n{}\".format(y.value_counts()))\n",
    "print(\"\\nTarget distribution in the training set:\\n{}\\n\".format(y_train.value_counts()))\n",
    "print(\"Target distribution in the test set:\\n{}\".format(y_test.value_counts()))"
   ]
  },
  {
   "cell_type": "code",
   "execution_count": null,
   "id": "dc7826d9",
   "metadata": {},
   "outputs": [],
   "source": [
    "X.head()"
   ]
  },
  {
   "cell_type": "code",
   "execution_count": null,
   "id": "2755271b",
   "metadata": {},
   "outputs": [],
   "source": [
    "X_train"
   ]
  },
  {
   "cell_type": "code",
   "execution_count": null,
   "id": "b54e3aa5",
   "metadata": {},
   "outputs": [],
   "source": [
    "#יצירת מודל רגרסיה ליניארית ובדיקתו במבחן R2\n",
    "lr=linear_model.LinearRegression()\n",
    "lr.fit(X=X_train, y=y_train)\n",
    "print(\"Slope:\",lr.coef_)\n",
    "print(\"Intercept:\",lr.intercept_)\n",
    "print(\"R2:\",lr.score(X_train,y_train))\n",
    "\n",
    "print('linear regression train accuracy %s'% lr.score(X_train,y_train))\n",
    "print('linear regression test accuracy %s'% lr.score(X_test,y_test))"
   ]
  },
  {
   "cell_type": "code",
   "execution_count": null,
   "id": "1d2985fb",
   "metadata": {},
   "outputs": [],
   "source": [
    "y_pred=lr.predict(X_test)\n",
    "dfclean['Rating']"
   ]
  },
  {
   "cell_type": "code",
   "execution_count": null,
   "id": "55556825",
   "metadata": {},
   "outputs": [],
   "source": [
    "dfclean1=pd.DataFrame({\"Actual\":y_test,\"Predicted\":y_pred})\n",
    "dfclean1"
   ]
  },
  {
   "cell_type": "code",
   "execution_count": null,
   "id": "0639e14f",
   "metadata": {},
   "outputs": [],
   "source": [
    "X.columns[lr.coef_.argmax()]"
   ]
  },
  {
   "cell_type": "code",
   "execution_count": null,
   "id": "90692987",
   "metadata": {},
   "outputs": [],
   "source": [
    "import matplotlib.pyplot as plt\n",
    "\n",
    "# create a scatter plot with the actual and predicted values\n",
    "plt.scatter(range(len(y_test)), y_test, color='red', label='Actual Rating')\n",
    "plt.scatter(range(len(y_pred)), y_pred, color='blue', label='Predicted Rating')\n",
    "plt.xlabel('Index')\n",
    "plt.ylabel('Rating')\n",
    "plt.title('Linear Regression Model')\n",
    "plt.legend()\n",
    "plt.show()"
   ]
  },
  {
   "cell_type": "code",
   "execution_count": null,
   "id": "9b3214e9",
   "metadata": {},
   "outputs": [],
   "source": [
    "#ננסה עוד מודל ,כיוון שהתוצאות יצאו גבוהות ונרצה לודא אמינות \n",
    "from sklearn.ensemble import RandomForestRegressor\n",
    "X_train, X_test, y_train, y_test = train_test_split(X_train, y_train, test_size=0.2, random_state=45)\n",
    "model = RandomForestRegressor(n_estimators=100, random_state=45).fit(X_train, y_train)\n",
    "print(\"Accuracy:\", model.score(X_test, y_test))"
   ]
  },
  {
   "cell_type": "code",
   "execution_count": null,
   "id": "40ff8692",
   "metadata": {},
   "outputs": [],
   "source": [
    "dfclean.corr()\n",
    "#ניתן לראות שהקאורלציה של רייטינג מול משתנים אחרים היא יחסית גבוהה . בעיקר בפלייבור . אפשר לעשות גם מטריצת עמודות לדבר הזה "
   ]
  },
  {
   "cell_type": "code",
   "execution_count": null,
   "id": "e6cce335",
   "metadata": {},
   "outputs": [],
   "source": [
    "# create a scatter plot with the actual and predicted values\n",
    "plt.scatter(range(len(y_test)), y_test, color='red', label='Actual Rating')\n",
    "plt.scatter(range(len(y_pred)), y_pred, color='blue', label='Predicted Rating')\n",
    "plt.xlabel('Index')\n",
    "plt.ylabel('Rating')\n",
    "plt.title('Linear Regression Model')\n",
    "plt.legend()\n",
    "plt.show()"
   ]
  }
 ],
 "metadata": {
  "kernelspec": {
   "display_name": "Python 3 (ipykernel)",
   "language": "python",
   "name": "python3"
  },
  "language_info": {
   "codemirror_mode": {
    "name": "ipython",
    "version": 3
   },
   "file_extension": ".py",
   "mimetype": "text/x-python",
   "name": "python",
   "nbconvert_exporter": "python",
   "pygments_lexer": "ipython3",
   "version": "3.9.13"
  }
 },
 "nbformat": 4,
 "nbformat_minor": 5
}
