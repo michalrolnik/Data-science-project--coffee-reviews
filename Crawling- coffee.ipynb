{
 "cells": [
  {
   "cell_type": "code",
   "execution_count": null,
   "id": "8c982730",
   "metadata": {},
   "outputs": [],
   "source": [
    "import time\n",
    "import os  \n",
    "from bs4 import BeautifulSoup as bs\n",
    "import pandas as pd\n",
    "import scipy as sc\n",
    "import numpy as np\n",
    "import requests\n",
    "from lxml import html\n",
    "import csv\n",
    "import matplotlib.pyplot as plt"
   ]
  },
  {
   "cell_type": "code",
   "execution_count": null,
   "id": "3736fe97",
   "metadata": {},
   "outputs": [],
   "source": [
    "def load_soup_object(url):\n",
    "    headers = {'User-Agent': 'Mozilla/5.0 (Windows NT 6.1; WOW64) AppleWebKit/537.36 (KHTML, like Gecko) Chrome/56.0.2924.76 Safari/537.36', \"Upgrade-Insecure-Requests\": \"1\",\"DNT\": \"1\",\"Accept\": \"text/html,application/xhtml+xml,application/xml;q=0.9,*/*;q=0.8\",\"Accept-Language\": \"en-US,en;q=0.5\",\"Accept-Encoding\": \"gzip, deflate\"}\n",
    "    r = requests.get(url,headers=headers)\n",
    "    soup = bs(r.content, \"html.parser\")\n",
    "    return soup"
   ]
  },
  {
   "cell_type": "code",
   "execution_count": null,
   "id": "5df89c88",
   "metadata": {},
   "outputs": [],
   "source": [
    "i = 0\n",
    "pages = []\n",
    "while(i<350): ## 350\n",
    "    i = i +1\n",
    "    i_str = str(i)\n",
    "    url = 'https://www.coffeereview.com/review/page/'+i_str+'/'\n",
    "    pages.append(url)\n"
   ]
  },
  {
   "cell_type": "code",
   "execution_count": null,
   "id": "e1c3ad6a",
   "metadata": {},
   "outputs": [],
   "source": [
    "pages"
   ]
  },
  {
   "cell_type": "code",
   "execution_count": null,
   "id": "ffae8aa7",
   "metadata": {},
   "outputs": [],
   "source": [
    "innerPagesLinks = []\n",
    "for page in pages:\n",
    "    soup = load_soup_object(page)\n",
    "    items = soup.find_all(\"div\",{\"class\": \"entry-content\"})\n",
    "    for item in items:\n",
    "        try:\n",
    "            link = item.find(\"p\",{\"class\": \"review-roaster\"}).find(\"a\")[\"href\"]\n",
    "        except:\n",
    "            link = None\n",
    "        if link:\n",
    "            innerPagesLinks.append(link)\n",
    "\n"
   ]
  },
  {
   "cell_type": "code",
   "execution_count": null,
   "id": "68d57332",
   "metadata": {},
   "outputs": [],
   "source": [
    "innerPagesLinks"
   ]
  },
  {
   "cell_type": "code",
   "execution_count": null,
   "id": "55798768",
   "metadata": {},
   "outputs": [],
   "source": [
    "data=[]\n",
    "\n",
    "for page in innerPagesLinks:\n",
    "    soup = load_soup_object(page)\n",
    "    dataList = soup.find(\"div\",{\"class\": \"review-template\"})\n",
    "    try:\n",
    "        coffee_name = dataList.find(\"p\",{\"class\":\"review-roaster\"}).text.strip()\n",
    "    except:\n",
    "        coffee_name = None\n",
    "    try:\n",
    "        company_name = dataList.find(\"h1\",{\"class\":\"review-title\"}).text.strip()\n",
    "    except:\n",
    "        company_name = None\n",
    "        \n",
    "    try:\n",
    "        rating = dataList.find(\"span\",{\"class\":\"review-template-rating\"}).text.strip()\n",
    "    except:\n",
    "        rating = None\n",
    "        \n",
    "    try:\n",
    "        location = dataList.find(\"table\",{\"class\":\"review-template-table\"})(\"tr\")[1](\"td\")[1].text.strip()\n",
    "    except:\n",
    "        location = None\n",
    "        \n",
    "    try:\n",
    "        r_location = dataList.find(\"table\",{\"class\":\"review-template-table\"})(\"tr\")[0](\"td\")[1].text.strip()\n",
    "    except:\n",
    "        r_location = None\n",
    "        \n",
    "    try:\n",
    "        roast = dataList.find(\"table\",{\"class\":\"review-template-table\"})(\"tr\")[2](\"td\")[1].text.strip()\n",
    "    except:\n",
    "        roast = None\n",
    "        \n",
    "    try:\n",
    "        agtron = dataList.find(\"table\",{\"class\":\"review-template-table\"})(\"tr\")[3](\"td\")[1].text.strip()\n",
    "    except:\n",
    "        agtron = None\n",
    "        \n",
    "    try:\n",
    "        price = dataList.find(\"table\",{\"class\":\"review-template-table\"})(\"tr\")[4](\"td\")[1].text.strip()\n",
    "    except:\n",
    "        price = None\n",
    "        \n",
    "    try:\n",
    "        date = dataList.findAll(\"table\",{\"class\":\"review-template-table\"})[1](\"tr\")[0](\"td\")[1].text.strip()\n",
    "    except:\n",
    "        date = None\n",
    "        \n",
    "    try:\n",
    "        aroma = dataList.findAll(\"table\",{\"class\":\"review-template-table\"})[1](\"tr\")[1](\"td\")[1].text.strip()\n",
    "    except:\n",
    "        aroma = None\n",
    "    \n",
    "    try:\n",
    "        acidity = dataList.findAll(\"table\",{\"class\":\"review-template-table\"})[1](\"tr\")[2](\"td\")[1].text.strip()\n",
    "    except:\n",
    "        acidity = None\n",
    "        \n",
    "    try:\n",
    "        body = dataList.findAll(\"table\",{\"class\":\"review-template-table\"})[1](\"tr\")[3](\"td\")[1].text.strip()\n",
    "    except:\n",
    "        body = None\n",
    "    \n",
    "    try:\n",
    "        flavor = dataList.findAll(\"table\",{\"class\":\"review-template-table\"})[1](\"tr\")[4](\"td\")[1].text.strip()\n",
    "    except:\n",
    "        flavor = None\n",
    "    \n",
    "    try:\n",
    "        aftertaste = dataList.findAll(\"table\",{\"class\":\"review-template-table\"})[1](\"tr\")[5](\"td\")[1].text.strip()\n",
    "    except:\n",
    "        aftertaste = None\n",
    "        \n",
    "    rowData={ \"Coffee Name\":coffee_name,\"Company Name\":company_name, \"Origin country\":location, \"Roaster Location:\":r_location, \"Roast Level\": roast, \"Agtron\":agtron, \"Price\":price, \"Rating\":rating, \"Review Date\":date, \"Aroma\":aroma, \"Acidity\":acidity, \"Body\":body, \"Flavor\":flavor, \"Aftertaste\":aftertaste}\n",
    "    data.append(rowData)\n",
    "\n",
    "time.sleep(10)\n",
    "df= pd.DataFrame(data)\n",
    "fileName='coffee.csv'\n",
    "df.to_csv(fileName, encoding='utf-8', index=False)"
   ]
  },
  {
   "cell_type": "code",
   "execution_count": null,
   "id": "53472d72",
   "metadata": {},
   "outputs": [],
   "source": [
    "df=pd.read_csv('coffee.csv')\n"
   ]
  },
  {
   "cell_type": "code",
   "execution_count": null,
   "id": "64eccf65",
   "metadata": {},
   "outputs": [],
   "source": []
  },
  {
   "cell_type": "code",
   "execution_count": null,
   "id": "f28c9c1f",
   "metadata": {},
   "outputs": [],
   "source": []
  }
 ],
 "metadata": {
  "kernelspec": {
   "display_name": "Python 3 (ipykernel)",
   "language": "python",
   "name": "python3"
  },
  "language_info": {
   "codemirror_mode": {
    "name": "ipython",
    "version": 3
   },
   "file_extension": ".py",
   "mimetype": "text/x-python",
   "name": "python",
   "nbconvert_exporter": "python",
   "pygments_lexer": "ipython3",
   "version": "3.9.13"
  }
 },
 "nbformat": 4,
 "nbformat_minor": 5
}
